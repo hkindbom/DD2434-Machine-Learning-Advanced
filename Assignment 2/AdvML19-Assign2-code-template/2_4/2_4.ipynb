{
 "cells": [
  {
   "cell_type": "markdown",
   "metadata": {},
   "source": [
    "## 2.4 in Assignment 2 - DD2434 Machine Learning, Advanced"
   ]
  },
  {
   "cell_type": "code",
   "execution_count": 14,
   "metadata": {},
   "outputs": [],
   "source": [
    "import numpy as np\n",
    "from scipy.stats import norm, gamma, multivariate_normal\n",
    "from itertools import product\n",
    "import matplotlib.pyplot as plt"
   ]
  },
  {
   "cell_type": "markdown",
   "metadata": {},
   "source": [
    "### Generate synthetic dataset"
   ]
  },
  {
   "cell_type": "code",
   "execution_count": 287,
   "metadata": {},
   "outputs": [],
   "source": [
    "np.random.seed(1338)\n",
    "N = 300 # number of samples\n",
    "mu = 0.5\n",
    "tau = 0.7#precision\n",
    "\n",
    "X_range = np.linspace(0, 1.0, num=N)\n",
    "X = np.random.normal(mu, 1/tau**0.5, N)\n",
    "X_mean = np.mean(X)"
   ]
  },
  {
   "cell_type": "code",
   "execution_count": 117,
   "metadata": {},
   "outputs": [],
   "source": [
    "#Assuming prior P(mu|tau) to be N(mu_0, (lambda_0*tau)⁻1)\n",
    "# and prior p(tau) to be Gamma(a_0, b_0)\n",
    "\n",
    "#help functions\n",
    "def get_mu_N(X_mean, N):\n",
    "    mu_N = (lambda_0*mu_0 + N*X_mean)/(lambda_0 + N)\n",
    "    return mu_N\n",
    "\n",
    "def get_lambda_N(E_tau, N):\n",
    "    lambda_N = (lambda_0 + N)/E_tau\n",
    "    return lambda_N\n",
    "\n",
    "def get_a_N(N):\n",
    "    a_N = a_0 + N/2\n",
    "    return a_N\n",
    "\n",
    "def get_b_N(X, E_mu, Var_mu):\n",
    "    b_N = b_0 + 0.5*get_E_mu_expression(X, E_mu, Var_mu)\n",
    "    return b_N\n",
    "\n",
    "def get_E_mu_expression(X, E_mu, Var_mu):\n",
    "    E_mu_2 = Var_mu + E_mu**2\n",
    "    term1 = np.power(X, 2) - 2*X*E_mu + E_mu_2\n",
    "    summed = np.sum(term1)\n",
    "    term2 = lambda_0*E_mu_2 - 2*E_mu*mu_0 + mu_0**2\n",
    "    E_mu_expression = summed + term2\n",
    "    return E_mu_expression"
   ]
  },
  {
   "cell_type": "markdown",
   "metadata": {},
   "source": [
    "### Iteratively compute variational distribution"
   ]
  },
  {
   "cell_type": "code",
   "execution_count": 282,
   "metadata": {},
   "outputs": [],
   "source": [
    "def re_estimate_param(iterations, E_tau_guess):\n",
    "    \n",
    "    #Prior parameters\n",
    "    lambda_0 = 1\n",
    "    mu_0 = 0\n",
    "    a_0 = 1\n",
    "    b_0 = 1\n",
    "\n",
    "    #initial guess\n",
    "    E_tau = E_tau_guess\n",
    "\n",
    "    for i in range(iterations):\n",
    "        mu_N = get_mu_N(X_mean, N)\n",
    "        lambda_N = get_lambda_N(E_tau, N)\n",
    "\n",
    "        a_N = get_a_N(N)\n",
    "        b_N = get_b_N(X, mu_N, 1/lambda_N)\n",
    "\n",
    "        #re-estimate\n",
    "        E_tau = a_N/b_N\n",
    "        \n",
    "    return lambda_N, mu_N, a_N, b_N\n",
    "    "
   ]
  },
  {
   "cell_type": "markdown",
   "metadata": {},
   "source": [
    "### Visualizing the result"
   ]
  },
  {
   "cell_type": "code",
   "execution_count": 285,
   "metadata": {},
   "outputs": [
    {
     "data": {
      "image/png": "[encoded data removed]",
      "text/plain": [
       "<Figure size 432x288 with 1 Axes>"
      ]
     },
     "metadata": {
      "needs_background": "light"
     },
     "output_type": "display_data"
    }
   ],
   "source": [
    "pixels = 200\n",
    "#q_mu is gaussian and q_tau is gamma(a,b)\n",
    "q_mu_prec, q_mu_mean, q_tau_a, q_tau_b = re_estimate_param(iterations = 2, E_tau_guess = 1)\n",
    "\n",
    "mu_range = np.linspace(0, 1.0, num=pixels)\n",
    "tau_range = np.linspace(0, 1.0, num=pixels)\n",
    "\n",
    "X, Y = np.meshgrid(tau_range, mu_range)\n",
    "N, M = len(X), len(Y)\n",
    "Z = np.zeros((N, M))\n",
    "for i,(x,y) in enumerate(product(tau_range,mu_range)):\n",
    "    pos = np.hstack((x, y))\n",
    "    tau = pos[0]\n",
    "    mu = pos[1]\n",
    "    Z[np.unravel_index(i, (N,M))] =  norm(q_mu_mean, 1/q_mu_prec**0.5).pdf(mu)*gamma.pdf(tau, q_tau_a, scale=1/q_tau_b)\n",
    "    \n",
    "im = plt.imshow(Z,cmap='hsv', origin='lower', extent=(0, 1, 0, 1)) #extent = (left, right, bottom, top)\n",
    "ax = plt.gca()\n",
    "ax.grid(False)\n",
    "plt.title(\"Factorized Approximation\")\n",
    "plt.xlabel('mu')\n",
    "plt.ylabel('tau')\n",
    "plt.show()"
   ]
  },
  {
   "cell_type": "markdown",
   "metadata": {},
   "source": [
    "### Comparing with exact posterior"
   ]
  },
  {
   "cell_type": "code",
   "execution_count": 288,
   "metadata": {},
   "outputs": [
    {
     "name": "stderr",
     "output_type": "stream",
     "text": [
      "/home/hannes/anaconda3/lib/python3.7/site-packages/ipykernel_launcher.py:17: RuntimeWarning: divide by zero encountered in double_scalars\n"
     ]
    },
    {
     "data": {
      "image/png": "[encoded data removed]",
      "text/plain": [
       "<Figure size 432x288 with 1 Axes>"
      ]
     },
     "metadata": {
      "needs_background": "light"
     },
     "output_type": "display_data"
    }
   ],
   "source": [
    "post_mu = (lambda_0*mu_0 + N*X_mean)/(lambda_0 + N)\n",
    "post_lambda = lambda_0 + N\n",
    "post_a = a_0 + N/2\n",
    "post_b = b_0 + 0.5*np.sum(np.power(X - X_mean, 2)) + (lambda_0*N*(X_mean - mu_0)**2)/(2*(lambda_0 + N))\n",
    "\n",
    "post_mu_range = np.linspace(0, 1.0, num=pixels)\n",
    "post_tau_range = np.linspace(0, 1.0, num=pixels)\n",
    "\n",
    "X_post, Y_post = np.meshgrid(post_tau_range, post_mu_range)\n",
    "post_N, post_M = len(X_post), len(Y_post)\n",
    "Z_post = np.zeros((post_N, post_M))\n",
    "for i,(x,y) in enumerate(product(post_tau_range,post_mu_range)):\n",
    "    pos = np.hstack((x, y))\n",
    "    tau = pos[0]\n",
    "    mu = pos[1]\n",
    "    tau_sample = gamma.pdf(tau, post_a, scale=1/post_b)\n",
    "    Z_post[np.unravel_index(i, (post_N,post_M))] =  norm(post_mu, 1/(post_lambda*tau)**0.5).pdf(mu)*tau_sample\n",
    "    \n",
    "im = plt.imshow(Z_post,cmap='hsv', origin='lower', extent=(0, 1, 0, 1))\n",
    "ax = plt.gca()\n",
    "ax.grid(False)\n",
    "plt.title(\"Exact Posterior\")\n",
    "plt.xlabel('mu')\n",
    "plt.ylabel('tau')\n",
    "plt.show()"
   ]
  }
 ],
 "metadata": {
  "kernelspec": {
   "display_name": "Python 3",
   "language": "python",
   "name": "python3"
  },
  "language_info": {
   "codemirror_mode": {
    "name": "ipython",
    "version": 3
   },
   "file_extension": ".py",
   "mimetype": "text/x-python",
   "name": "python",
   "nbconvert_exporter": "python",
   "pygments_lexer": "ipython3",
   "version": "3.7.3"
  }
 },
 "nbformat": 4,
 "nbformat_minor": 2
}
